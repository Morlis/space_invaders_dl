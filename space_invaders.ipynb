{
 "cells": [
  {
   "cell_type": "markdown",
   "id": "46f7f6c945a6bb0a",
   "metadata": {
    "collapsed": false
   },
   "source": [
    "# Deep Q-Learning - Space Invaders\n",
    "Train an agent to play Space Invaders using [Deep Reinforcement Learning](https://deepmind.google/discover/blog/deep-reinforcement-learning/)\n",
    "\n",
    "# Outline\n",
    "- [ 1 - Import Packages <img align=\"Right\" src=\"./images/space_invaders.png\" width = 60% >](#1)\n",
    "- [ 2 - Hyperparameters](#2)"
   ]
  },
  {
   "cell_type": "markdown",
   "id": "ce53e16a6c69a299",
   "metadata": {
    "collapsed": false
   },
   "source": [
    "<a name=\"1\"></a>\n",
    "## 1 - Import Packages\n",
    "\n",
    "We'll make use of the following packages:\n",
    "- `selenium` is a package for Selenium Python bindings provides a simple API to write functional/acceptance tests using Selenium WebDriver.\n",
    "- `PIL` is a package from Pillow, the Python Imaging Library adds image processing capabilities.\n",
    "- `OpenCV` (Open Source Computer Vision Library) is an open source computer vision and machine learning software library. \n",
    "- `numpy` is the fundamental package for scientific computing in Python."
   ]
  },
  {
   "cell_type": "code",
   "execution_count": null,
   "id": "be470be0b73af651",
   "metadata": {
    "collapsed": false
   },
   "outputs": [],
   "source": [
    "%load_ext autoreload\n",
    "%autoreload 2"
   ]
  },
  {
   "cell_type": "code",
   "execution_count": null,
   "id": "582871b0",
   "metadata": {
    "collapsed": false
   },
   "outputs": [],
   "source": [
    "import numpy as np\n",
    "\n",
    "from selenium import webdriver\n",
    "from selenium.webdriver.chrome.service import Service\n",
    "from selenium.webdriver.common.by import By\n",
    "from selenium.webdriver.support.wait import WebDriverWait\n",
    "from selenium.webdriver.support import expected_conditions as EC\n"
   ]
  },
  {
   "cell_type": "code",
   "execution_count": null,
   "id": "29869f47",
   "metadata": {},
   "outputs": [],
   "source": [
    "from config import Config\n",
    "from classes.game import Game\n",
    "\n",
    "config = Config()\n",
    "\n",
    "# Create an instance of the Service object\n",
    "service = Service(executable_path=config.chrome_driver)\n",
    "# Start Chrome using the service keyword\n",
    "driver = webdriver.Chrome(service=service)\n",
    "# Load the site\n",
    "driver.get(config.game_url)\n",
    "\n",
    "wait = WebDriverWait(driver, 10)\n",
    "\n",
    "# Cookie consent\n",
    "wait.until(EC.element_to_be_clickable((By.CSS_SELECTOR, \"button[class='fc-button fc-cta-consent fc-primary-button']\"))).click()\n",
    "\n",
    "# Find canvas and create Game\n",
    "canvas = wait.until(EC.element_to_be_clickable((By.ID, 'videoCanvas')))\n",
    "\n",
    "game = Game(driver, canvas)\n"
   ]
  },
  {
   "cell_type": "code",
   "execution_count": null,
   "id": "ac21a682",
   "metadata": {},
   "outputs": [],
   "source": [
    "game.start()"
   ]
  },
  {
   "cell_type": "code",
   "execution_count": null,
   "id": "63982cf6",
   "metadata": {},
   "outputs": [],
   "source": [
    "#bw_image = game.get_image_bw()\n",
    "#bw_image.show()\n",
    "\n",
    "image = game.get_image_png()\n",
    "image"
   ]
  },
  {
   "cell_type": "code",
   "execution_count": null,
   "id": "f24bfa5f",
   "metadata": {},
   "outputs": [],
   "source": [
    "from classes.number_parser import Number_Parser\n",
    "import cv2\n",
    "import random as rng\n",
    "\n",
    "# 9,9\n",
    "# Lives 21, 218\n",
    "# Score 37, 42 - 45 - 53 - 61 - 69 - 77\n",
    "\n",
    "#matrix = np.asarray(bw_image.getdata(0)).reshape((bw_image.size[1], bw_image.size[0]))\n",
    "\n",
    "# Convert image to BGR2GRAY format needed by findContours\n",
    "gray = cv2.cvtColor(np.array(image), cv2.COLOR_BGR2GRAY)\n",
    "\n",
    "score_digits = [None] * 6\n",
    "score_digits[0] = gray[42:42 + 9, 37:37 + 9]\n",
    "score_digits[1] = gray[42:42 + 9, 45:45 + 9]\n",
    "score_digits[2] = gray[42:42 + 9, 53:53 + 9]\n",
    "score_digits[3] = gray[42:42 + 9, 61:61 + 9]\n",
    "score_digits[4] = gray[42:42 + 9, 69:69 + 9]\n",
    "score_digits[5] = gray[42:42 + 9, 77:77 + 9]\n",
    "\n",
    "cv2.imshow('Gray', score_digits[0])\n",
    "cv2.waitKey()\n",
    "\n",
    "#print(model.predict(cv2.bitwise_not(score_digits[0])))\n",
    "#print(model.predict(cv2.bitwise_not(cv2.resize(score_digits[1], (200, 200)))))\n",
    "#print(model.predict(cv2.bitwise_not(score_digits[2])))\n",
    "#print(model.predict(cv2.bitwise_not(score_digits[3])))\n",
    "\n",
    "number_parser = Number_Parser()\n",
    "\n",
    "print(number_parser.get_number(score_digits))\n",
    "#print(number_parser.get_digit(score_digits[1]))\n",
    "\n",
    "\"\"\"\n",
    "number_contours = pickle.load(open('number_contours.dump', 'rb'))\n",
    "number_contours[0] = score_digits[0]\n",
    "number_contours[1] = score_digits[1]\n",
    "number_contours[2] = score_digits[2]\n",
    "\"\"\"\n",
    "\n",
    "\n",
    "\"\"\"\n",
    "digit_contours, _ = cv2.findContours(score_digits[0], cv2.RETR_LIST, cv2.CHAIN_APPROX_SIMPLE)\n",
    "number_contours[0] = digit_contours[0]\n",
    "\n",
    "digit_contours, _ = cv2.findContours(score_digits[1], cv2.RETR_LIST, cv2.CHAIN_APPROX_SIMPLE)\n",
    "number_contours[1] = digit_contours[0]\n",
    "\n",
    "digit_contours, _ = cv2.findContours(score_digits[2], cv2.RETR_LIST, cv2.CHAIN_APPROX_SIMPLE)\n",
    "number_contours[2] = digit_contours[0]\n",
    "\"\"\"\n",
    "\n",
    "#pickle.dump(number_contours, open('number_contours.dump', 'wb'))\n",
    "\n",
    "#ret = cv2.matchShapes(score_digits[0], score_digits[3], 1, 0.0)\n",
    "#print(ret)\n",
    "\n",
    "#cv2.imshow('Gray', score_digits[2])\n",
    "#cv2.waitKey()\n",
    "\n",
    "# Find contours\n",
    "contours, _ = cv2.findContours(gray, cv2.RETR_CCOMP, cv2.CHAIN_APPROX_NONE)\n",
    "\n",
    "contours_poly = [None]*len(contours)\n",
    "boundRect = [None]*len(contours)\n",
    "centers = [None]*len(contours)\n",
    "radius = [None]*len(contours)\n",
    "for i, c in enumerate(contours):\n",
    "    contours_poly[i] = cv2.approxPolyDP(c, 3, True)\n",
    "    boundRect[i] = cv2.boundingRect(contours_poly[i])\n",
    "    centers[i], radius[i] = cv2.minEnclosingCircle(contours_poly[i])\n",
    "\n",
    "drawing = np.zeros((gray.shape[0], gray.shape[1], 3), dtype=np.uint8)\n",
    "    \n",
    "for i in range(len(contours)):\n",
    "    color = (rng.randint(0,256), rng.randint(0,256), rng.randint(0,256))\n",
    "    cv2.drawContours(drawing, contours_poly, i, color)\n",
    "    #cv2.rectangle(drawing, (int(boundRect[i][0]), int(boundRect[i][1])), \\\n",
    "    #   (int(boundRect[i][0]+boundRect[i][2]), int(boundRect[i][1]+boundRect[i][3])), color, 2)\n",
    "    #cv2.circle(drawing, (int(centers[i][0]), int(centers[i][1])), int(radius[i]), color, 2)\n",
    "\n",
    "cv2.imshow('Gray', drawing)\n",
    "cv2.waitKey()\n",
    "\n",
    "##bw_image.show()\n",
    "##print(matrix)\n",
    "#matrix[420,:]\n",
    "#state = State()\n",
    "#state.process_image(matrix)\n"
   ]
  },
  {
   "cell_type": "code",
   "execution_count": null,
   "id": "828f491a",
   "metadata": {},
   "outputs": [],
   "source": [
    "from classes.number_parser import Number_Parser\n",
    "import cv2\n",
    "import time\n",
    "\n",
    "max_num_timesteps = 100\n",
    "\n",
    "number_parser = Number_Parser()\n",
    "game.start()\n",
    "\n",
    "time.sleep(5)\n",
    "\n",
    "for t in range(max_num_timesteps):\n",
    "    image = game.get_image_png()\n",
    "\n",
    "    # Convert image to BGR2GRAY format needed by findContours\n",
    "    gray = cv2.cvtColor(np.array(image), cv2.COLOR_BGR2GRAY)\n",
    "    \n",
    "    score_digits = [None] * 6\n",
    "    score_digits[0] = gray[42:42 + 9, 37:37 + 9]\n",
    "    score_digits[1] = gray[42:42 + 9, 45:45 + 9]\n",
    "    score_digits[2] = gray[42:42 + 9, 53:53 + 9]\n",
    "    score_digits[3] = gray[42:42 + 9, 61:61 + 9]\n",
    "    score_digits[4] = gray[42:42 + 9, 69:69 + 9]\n",
    "    score_digits[5] = gray[42:42 + 9, 77:77 + 9]\n",
    "\n",
    "    lives_digit = gray[218:218 + 9, 21:21 + 9]\n",
    "\n",
    "    print(f\"Score: %s\" % number_parser.get_number(score_digits))\n",
    "    print(f\"Lives: %s\" % number_parser.get_digit(lives_digit))\n",
    "    print(\"----------\")\n",
    "    time.sleep(1)"
   ]
  },
  {
   "cell_type": "code",
   "execution_count": null,
   "id": "fd6c409d",
   "metadata": {},
   "outputs": [],
   "source": [
    "game.fire()"
   ]
  },
  {
   "cell_type": "code",
   "execution_count": null,
   "id": "0aa03088",
   "metadata": {},
   "outputs": [],
   "source": [
    "game.quit()"
   ]
  },
  {
   "cell_type": "markdown",
   "id": "5b374337",
   "metadata": {},
   "source": []
  }
 ],
 "metadata": {
  "kernelspec": {
   "display_name": "Python 3 (ipykernel)",
   "language": "python",
   "name": "python3"
  },
  "language_info": {
   "codemirror_mode": {
    "name": "ipython",
    "version": 3
   },
   "file_extension": ".py",
   "mimetype": "text/x-python",
   "name": "python",
   "nbconvert_exporter": "python",
   "pygments_lexer": "ipython3",
   "version": "3.10.13"
  }
 },
 "nbformat": 4,
 "nbformat_minor": 5
}
